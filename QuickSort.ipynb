{
  "nbformat": 4,
  "nbformat_minor": 0,
  "metadata": {
    "colab": {
      "name": "QuickSort.ipynb",
      "provenance": []
    },
    "kernelspec": {
      "name": "python3",
      "display_name": "Python 3"
    }
  },
  "cells": [
    {
      "cell_type": "code",
      "metadata": {
        "id": "3QUhl404svVb"
      },
      "source": [
        "def quicksort(arr):\r\n",
        "    if len(arr) <= 1:\r\n",
        "        return arr\r\n",
        "    pivot = arr[len(arr) // 2]\r\n",
        "    left = [x for x in arr if x < pivot]\r\n",
        "    middle = [x for x in arr if x == pivot]\r\n",
        "    right = [x for x in arr if x > pivot]\r\n",
        "    return quicksort(left) + middle + quicksort(right)\r\n",
        "print(quicksort([3,16,8,10,11,2,1]))"
      ],
      "execution_count": null,
      "outputs": []
    }
  ]
}