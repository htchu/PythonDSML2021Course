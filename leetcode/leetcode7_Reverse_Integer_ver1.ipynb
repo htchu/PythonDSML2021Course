{
  "nbformat": 4,
  "nbformat_minor": 0,
  "metadata": {
    "colab": {
      "name": "leetcode7. Reverse Integer_ver1.ipynb",
      "provenance": []
    },
    "kernelspec": {
      "name": "python3",
      "display_name": "Python 3"
    }
  },
  "cells": [
    {
      "cell_type": "code",
      "metadata": {
        "id": "e1MlLozI5xei"
      },
      "source": [
        "x =123"
      ],
      "execution_count": 1,
      "outputs": []
    },
    {
      "cell_type": "code",
      "metadata": {
        "id": "ChlDluEV5vBK"
      },
      "source": [
        "if x >=0:\r\n",
        "    str_x = str(x)\r\n",
        "    rev_x = str_x[::-1]\r\n",
        "    y = int(rev_x)\r\n",
        "else:\r\n",
        "    str_x = str(-x)\r\n",
        "    rev_x = str_x[::-1]\r\n",
        "    y = -int(rev_x)\r\n",
        "if -2**31 < y <2**31-1:\r\n",
        "    print(y)\r\n",
        "print(0)"
      ],
      "execution_count": null,
      "outputs": []
    }
  ]
}