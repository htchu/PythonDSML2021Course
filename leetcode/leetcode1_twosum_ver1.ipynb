{
  "nbformat": 4,
  "nbformat_minor": 0,
  "metadata": {
    "colab": {
      "name": "leetcode1-twosum-ver1.ipynb",
      "provenance": []
    },
    "kernelspec": {
      "name": "python3",
      "display_name": "Python 3"
    }
  },
  "cells": [
    {
      "cell_type": "markdown",
      "metadata": {
        "id": "RCE6-EHZfIkL"
      },
      "source": [
        "# Excercise Leetcode problem no. 1; Two sum\r\n",
        "\r\n",
        "https://leetcode.com/problems/two-sum/\r\n",
        "\r\n",
        "IPO model"
      ]
    },
    {
      "cell_type": "code",
      "metadata": {
        "id": "cPMgHAbmemuO"
      },
      "source": [
        "#input\r\n",
        "nums = [2,7,11,15]\r\n",
        "target = 9"
      ],
      "execution_count": 4,
      "outputs": []
    },
    {
      "cell_type": "code",
      "metadata": {
        "colab": {
          "base_uri": "https://localhost:8080/"
        },
        "id": "_kPRgiElfC1q",
        "outputId": "9c731b21-c25c-472a-c880-9f26b54b013e"
      },
      "source": [
        "#process\r\n",
        "for i1, num1 in enumerate(nums):\r\n",
        "  for i2, num2 in enumerate(nums):\r\n",
        "    if num1 + num2 == target:\r\n",
        "      print(\"{}+{}={}\".format(num1, num2, num1+num2) )  \r\n",
        "      print(\"{},{}\".format(i1, i2) )     "
      ],
      "execution_count": 10,
      "outputs": [
        {
          "output_type": "stream",
          "text": [
            "2+7=9\n",
            "0,1\n",
            "7+2=9\n",
            "1,0\n"
          ],
          "name": "stdout"
        }
      ]
    },
    {
      "cell_type": "code",
      "metadata": {
        "id": "g0lDpDpOqyq3"
      },
      "source": [
        "help(enumerate)"
      ],
      "execution_count": null,
      "outputs": []
    },
    {
      "cell_type": "code",
      "metadata": {
        "id": "ABnQ0Idde4_M"
      },
      "source": [
        "#output\r\n",
        "ans =[0, 1]"
      ],
      "execution_count": 1,
      "outputs": []
    }
  ]
}