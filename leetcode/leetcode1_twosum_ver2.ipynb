{
  "nbformat": 4,
  "nbformat_minor": 0,
  "metadata": {
    "colab": {
      "name": "leetcode1-twosum-ver2.ipynb",
      "provenance": []
    },
    "kernelspec": {
      "name": "python3",
      "display_name": "Python 3"
    }
  },
  "cells": [
    {
      "cell_type": "markdown",
      "metadata": {
        "id": "RCE6-EHZfIkL"
      },
      "source": [
        "# Excercise Leetcode problem no. 1; Two sum\r\n",
        "\r\n",
        "https://leetcode.com/problems/two-sum/\r\n",
        "\r\n",
        "IPO model"
      ]
    },
    {
      "cell_type": "code",
      "metadata": {
        "id": "cPMgHAbmemuO"
      },
      "source": [
        "#input\r\n",
        "nums = [2,7,11,15]\r\n",
        "target = 9"
      ],
      "execution_count": 4,
      "outputs": []
    },
    {
      "cell_type": "markdown",
      "metadata": {
        "id": "XFkNsYSGtsee"
      },
      "source": [
        "## Conver a list variable into a dictionary variable"
      ]
    },
    {
      "cell_type": "code",
      "metadata": {
        "colab": {
          "base_uri": "https://localhost:8080/"
        },
        "id": "GFQ7uwJrtrvD",
        "outputId": "959ddbbd-66b1-4aa1-b88c-cc2e53f7771e"
      },
      "source": [
        "dmap =dict()\r\n",
        "for i1, num1 in enumerate(nums):\r\n",
        "  dmap[num1]=i1\r\n",
        "print(dmap)"
      ],
      "execution_count": 12,
      "outputs": [
        {
          "output_type": "stream",
          "text": [
            "{2: 0, 7: 1, 11: 2, 15: 3}\n"
          ],
          "name": "stdout"
        }
      ]
    },
    {
      "cell_type": "markdown",
      "metadata": {
        "id": "h82bKl_Ixclr"
      },
      "source": [
        "## A single for-loop to check the second number if it is in the list"
      ]
    },
    {
      "cell_type": "code",
      "metadata": {
        "colab": {
          "base_uri": "https://localhost:8080/"
        },
        "id": "HW3JPl70uy0O",
        "outputId": "53552461-f629-41c9-bf17-6f7130b765fe"
      },
      "source": [
        "for i1, num1 in enumerate(nums):\r\n",
        "  num2 = target - num1\r\n",
        "  if num2 in dmap:\r\n",
        "    i2=dmap[num2]\r\n",
        "    if i1 == i2:\r\n",
        "      continue\r\n",
        "    print(\"{},{}\".format(i1, i2) )  "
      ],
      "execution_count": 13,
      "outputs": [
        {
          "output_type": "stream",
          "text": [
            "0,1\n",
            "1,0\n"
          ],
          "name": "stdout"
        }
      ]
    },
    {
      "cell_type": "code",
      "metadata": {
        "colab": {
          "base_uri": "https://localhost:8080/"
        },
        "id": "_kPRgiElfC1q",
        "outputId": "9c731b21-c25c-472a-c880-9f26b54b013e"
      },
      "source": [
        "#process\r\n",
        "for i1, num1 in enumerate(nums):\r\n",
        "  for i2, num2 in enumerate(nums):\r\n",
        "    if num1 + num2 == target:\r\n",
        "      print(\"{}+{}={}\".format(num1, num2, num1+num2) )  \r\n",
        "      print(\"{},{}\".format(i1, i2) )     "
      ],
      "execution_count": 10,
      "outputs": [
        {
          "output_type": "stream",
          "text": [
            "2+7=9\n",
            "0,1\n",
            "7+2=9\n",
            "1,0\n"
          ],
          "name": "stdout"
        }
      ]
    },
    {
      "cell_type": "code",
      "metadata": {
        "id": "g0lDpDpOqyq3"
      },
      "source": [
        "help(enumerate)"
      ],
      "execution_count": null,
      "outputs": []
    },
    {
      "cell_type": "code",
      "metadata": {
        "id": "ABnQ0Idde4_M"
      },
      "source": [
        "#output\r\n",
        "ans =[0, 1]"
      ],
      "execution_count": 1,
      "outputs": []
    }
  ]
}